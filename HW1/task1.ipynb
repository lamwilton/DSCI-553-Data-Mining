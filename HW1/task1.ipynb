{
 "cells": [
  {
   "cell_type": "code",
   "execution_count": 5,
   "metadata": {
    "collapsed": true
   },
   "outputs": [],
   "source": [
    "from pyspark import SparkContext, SparkConf\n",
    "\n",
    "conf = SparkConf().setAppName(\"task1\").setMaster(\"local\")\n",
    "sc = SparkContext(conf=conf)\n",
    "lines = sc.textFile(\"review.json\")"
   ]
  },
  {
   "cell_type": "markdown",
   "source": [
    "Part A"
   ],
   "metadata": {
    "collapsed": false,
    "pycharm": {
     "name": "#%% md\n"
    }
   }
  },
  {
   "cell_type": "code",
   "execution_count": 6,
   "outputs": [
    {
     "name": "stdout",
     "output_type": "stream",
     "text": [
      "Part A: The total number of reviews is 1151625\n"
     ]
    }
   ],
   "source": [
    "def part_a(lines):\n",
    "    review = lines.map(lambda s: 1)  # Outputs 1 for each line of review\n",
    "    total_reviews = review.reduce(lambda a, b: a + b)  # Summing\n",
    "    print(\"Part A: The total number of reviews is \" + str(total_reviews))\n",
    "    return total_reviews\n",
    "\n",
    "part_a(lines)"
   ],
   "metadata": {
    "collapsed": false,
    "pycharm": {
     "name": "#%%\n"
    }
   }
  },
  {
   "cell_type": "code",
   "execution_count": 7,
   "outputs": [],
   "source": [
    "sc.stop()\n"
   ],
   "metadata": {
    "collapsed": false,
    "pycharm": {
     "name": "#%%\n"
    }
   }
  }
 ],
 "metadata": {
  "kernelspec": {
   "display_name": "Python 3",
   "language": "python",
   "name": "python3"
  },
  "language_info": {
   "codemirror_mode": {
    "name": "ipython",
    "version": 2
   },
   "file_extension": ".py",
   "mimetype": "text/x-python",
   "name": "python",
   "nbconvert_exporter": "python",
   "pygments_lexer": "ipython2",
   "version": "2.7.6"
  }
 },
 "nbformat": 4,
 "nbformat_minor": 0
}