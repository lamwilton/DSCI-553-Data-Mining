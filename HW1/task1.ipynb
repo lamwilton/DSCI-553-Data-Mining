{
 "cells": [
  {
   "cell_type": "code",
   "execution_count": 8,
   "metadata": {
    "collapsed": true
   },
   "outputs": [],
   "source": [
    "from pyspark import SparkContext\n",
    "import json\n",
    "import sys\n",
    "\n",
    "sc = SparkContext(master=\"local[6]\", appName=\"task1\")\n",
    "sc.setLogLevel(\"WARN\")\n",
    "lines = sc.textFile(sys.argv[1])\n",
    "answer = dict()"
   ]
  },
  {
   "cell_type": "markdown",
   "source": [
    "Part A"
   ],
   "metadata": {
    "collapsed": false,
    "pycharm": {
     "name": "#%% md\n"
    }
   }
  },
  {
   "cell_type": "code",
   "execution_count": 6,
   "outputs": [
    {
     "name": "stdout",
     "output_type": "stream",
     "text": [
      "Part A: The total number of reviews is 1151625\n"
     ]
    }
   ],
   "source": [
    "def part_a(lines):\n",
    "    total_reviews = lines.count()\n",
    "    print(\"The total number of reviews is \" + str(total_reviews))\n",
    "    return total_reviews\n",
    "\n",
    "answer['A'] = part_a(lines)"
   ],
   "metadata": {
    "collapsed": false,
    "pycharm": {
     "name": "#%%\n"
    }
   }
  },
  {
   "cell_type": "code",
   "execution_count": 7,
   "outputs": [],
   "source": [
    "def part_b(lines, y):\n",
    "    year_filter = lines.filter(lambda s: y in json.loads(s)['date'])\n",
    "    year_count = year_filter.count()\n",
    "    print(\"The number of reviews in \" + y + \" is \" + str(year_count))\n",
    "    return year_count\n",
    "\n",
    "y = str(sys.argv[4])\n",
    "answer['B'] = part_b(lines, y=y)"
   ],
   "metadata": {
    "collapsed": false,
    "pycharm": {
     "name": "#%%\n"
    }
   }
  },
  {
   "cell_type": "code",
   "execution_count": null,
   "outputs": [],
   "source": [
    "\n",
    "def part_c_d(lines, m):\n",
    "    # Part C\n",
    "    users = lines.map(lambda s: (json.loads(s)['user_id'], 1))\n",
    "    users_group = users.groupByKey()\n",
    "    users_count = users_group.count()\n",
    "\n",
    "    # Part D\n",
    "    top_users = users.reduceByKey(lambda a, b: a + b)\n",
    "    top_users_col = top_users.collect()\n",
    "    top_users_col = sorted(top_users_col, key=lambda x: -x[1])\n",
    "\n",
    "    top_m = top_users_col[0:m]\n",
    "    top_m_list = [[str(elem[0]), elem[1]] for elem in top_m]  # Convert to list format from tuple\n",
    "    print(\"The number of unique users is : \" + str(users_count))\n",
    "    print(\"Top \" + str(m) + \" users: \" + str(top_m_list[0:10]))\n",
    "    return users_count, top_m_list\n",
    "\n",
    "answer['C'], answer['D'] = part_c_d(lines, m=int(sys.argv[5]))\n"
   ],
   "metadata": {
    "collapsed": false,
    "pycharm": {
     "name": "#%%\n"
    }
   }
  },
  {
   "cell_type": "code",
   "execution_count": null,
   "outputs": [],
   "source": [
    "sc.stop()\n"
   ],
   "metadata": {
    "collapsed": false,
    "pycharm": {
     "name": "#%%\n"
    }
   }
  }
 ],
 "metadata": {
  "kernelspec": {
   "display_name": "Python 3",
   "language": "python",
   "name": "python3"
  },
  "language_info": {
   "codemirror_mode": {
    "name": "ipython",
    "version": 2
   },
   "file_extension": ".py",
   "mimetype": "text/x-python",
   "name": "python",
   "nbconvert_exporter": "python",
   "pygments_lexer": "ipython2",
   "version": "2.7.6"
  }
 },
 "nbformat": 4,
 "nbformat_minor": 0
}